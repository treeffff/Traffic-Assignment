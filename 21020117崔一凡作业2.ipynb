{
 "cells": [
  {
   "cell_type": "markdown",
   "metadata": {},
   "source": [
    "第一题"
   ]
  },
  {
   "cell_type": "code",
   "execution_count": 2,
   "metadata": {},
   "outputs": [
    {
     "data": {
      "text/plain": [
       "0.14959151840135315"
      ]
     },
     "execution_count": 2,
     "metadata": {},
     "output_type": "execute_result"
    }
   ],
   "source": [
    "import numpy as np\n",
    "a = np.array([7, 5, 4, 3])\n",
    "b = np.array([-2, 4, -3, 6])\n",
    "a_abs = np.sqrt(a@a.T)\n",
    "b_abs = np.sqrt(b@b.T)\n",
    "target = a@b.T / (a_abs * b_abs)\n",
    "target"
   ]
  },
  {
   "cell_type": "code",
   "execution_count": 4,
   "metadata": {},
   "outputs": [
    {
     "name": "stdout",
     "output_type": "stream",
     "text": [
      "0.7853981633974483\n",
      "1.1780972450961724\n",
      "1.3744467859455345\n",
      "1.4726215563702154\n",
      "1.423534171157875\n",
      "1.3989904785517049\n",
      "1.41126232485479\n",
      "1.4173982480063325\n",
      "1.420466209582104\n",
      "1.4220001903699895\n",
      "1.4212331999760468\n",
      "1.4208497047790754\n",
      "1.4206579571805897\n",
      "1.4205620833813468\n",
      "1.4206100202809684\n",
      "1.420633988730779\n",
      "result: theta=81.39633178710939°\n"
     ]
    }
   ],
   "source": [
    "left = 0\n",
    "right = np.pi\n",
    "x = (left+right)/2\n",
    "eplison = 1e-5\n",
    "\n",
    "def f(x):\n",
    "    return np.cos(x) - target\n",
    " \n",
    "while abs(f(x)) >= eplison:\n",
    "    if f(left) * f(x) < 0:\n",
    "        right = x\n",
    "    else:\n",
    "        left = x\n",
    "    x = (left + right) / 2 \n",
    "    print(x)\n",
    "print(f'result: theta={x / np.pi * 180}°')"
   ]
  },
  {
   "cell_type": "markdown",
   "metadata": {},
   "source": [
    "第二题"
   ]
  },
  {
   "cell_type": "code",
   "execution_count": 5,
   "metadata": {},
   "outputs": [],
   "source": [
    "def f2(x):\n",
    "    \"\"\"\n",
    "    函数\n",
    "    \"\"\"\n",
    "    return x**4 - 4*x**3 - 6*x**2 - 16*x + 4\n",
    "\n",
    "def f_1(x, delte=0.01):\n",
    "    \"\"\"\n",
    "    一阶导\n",
    "    \"\"\"\n",
    "    return (f2(x+delte) - f2(x)) / delte\n",
    "\n",
    "def f_2(x, delte=0.01):\n",
    "    \"\"\"\n",
    "    二阶导\n",
    "    \"\"\"\n",
    "    return (f_1(x+delte)-f_1(x)) / delte"
   ]
  },
  {
   "cell_type": "code",
   "execution_count": 6,
   "metadata": {},
   "outputs": [
    {
     "name": "stdout",
     "output_type": "stream",
     "text": [
      "-2.7675402683270054\n",
      "-1.6758762139092285\n",
      "-0.8908149465373864\n",
      "0.061321675927303754\n",
      "-1.1728891943424449\n",
      "-0.4035343419880373\n",
      "-19.608165717690927\n",
      "-12.79504216126039\n",
      "-8.276822957472227\n",
      "-5.294424330564793\n",
      "-3.3380806956696523\n",
      "-2.0559742985592715\n",
      "-1.1814612856179565\n",
      "-0.4140520758738929\n",
      "-39.351452387456106\n",
      "-25.930547111661195\n",
      "-16.997544887455206\n",
      "-11.06195169023451\n",
      "-7.130866394663825\n",
      "-4.541315642771495\n",
      "-2.845537713923389\n",
      "-1.7283285678887863\n",
      "-0.9330707270154394\n",
      "-0.030331466962936204\n",
      "-1.3950701435637616\n",
      "-0.643853472686209\n",
      "1.1329214105833199\n",
      "-0.5214727131186632\n",
      "3.4478617379841214\n",
      "4.186884029662057\n",
      "4.0097534500634024\n",
      "3.995151062873776\n",
      "3.9949970993409294\n",
      "result: alpha=3.9949970993409294\n"
     ]
    }
   ],
   "source": [
    "epsilon = 0.001\n",
    "alpha = 2.0\n",
    "while abs(f_1(alpha)) >= epsilon:\n",
    "    alpha -= f_1(alpha) / f_2(alpha)\n",
    "    print(alpha)\n",
    "print(f\"result: alpha={alpha}\")"
   ]
  }
 ],
 "metadata": {
  "kernelspec": {
   "display_name": "pytorch1.10",
   "language": "python",
   "name": "pytorch1.10"
  },
  "language_info": {
   "codemirror_mode": {
    "name": "ipython",
    "version": 3
   },
   "file_extension": ".py",
   "mimetype": "text/x-python",
   "name": "python",
   "nbconvert_exporter": "python",
   "pygments_lexer": "ipython3",
   "version": "3.7.13"
  }
 },
 "nbformat": 4,
 "nbformat_minor": 2
}
