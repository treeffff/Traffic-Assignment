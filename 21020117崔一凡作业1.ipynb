{
 "cells": [
  {
   "cell_type": "code",
   "execution_count": 1,
   "metadata": {},
   "outputs": [],
   "source": [
    "import numpy as np\n",
    "def Fx(x):\n",
    "    return np.array([x[0]**2+x[1]**2-4, x[0]**2-x[1]**2-1])\n",
    "\n",
    "def Jacobi_inverse(x):\n",
    "    jacobi = np.array([[2*x[0], 2*x[1]], [2*x[0], -2*x[1]]])\n",
    "    return np.linalg.inv(jacobi)"
   ]
  },
  {
   "cell_type": "code",
   "execution_count": 2,
   "metadata": {},
   "outputs": [
    {
     "name": "stdout",
     "output_type": "stream",
     "text": [
      "[1.58125 1.225  ]\n",
      "result: x=1.58125, y=1.225\n"
     ]
    }
   ],
   "source": [
    "x = np.array([1.6, 1.2]).T\n",
    "epsilon = 0.001\n",
    "\n",
    "while abs(Fx(x)[0]) >= epsilon or abs(Fx(x)[1]) >= epsilon:\n",
    "    x -= Jacobi_inverse(x) @ Fx(x)\n",
    "    print(x)\n",
    "print(f'result: x={x[0]}, y={x[1]}')"
   ]
  }
 ],
 "metadata": {
  "kernelspec": {
   "display_name": "pytorch1.10",
   "language": "python",
   "name": "pytorch1.10"
  },
  "language_info": {
   "codemirror_mode": {
    "name": "ipython",
    "version": 3
   },
   "file_extension": ".py",
   "mimetype": "text/x-python",
   "name": "python",
   "nbconvert_exporter": "python",
   "pygments_lexer": "ipython3",
   "version": "3.7.13"
  }
 },
 "nbformat": 4,
 "nbformat_minor": 2
}
